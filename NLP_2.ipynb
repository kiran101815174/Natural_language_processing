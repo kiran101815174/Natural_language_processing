{
  "nbformat": 4,
  "nbformat_minor": 0,
  "metadata": {
    "colab": {
      "name": "NLP_2.ipynb",
      "provenance": []
    },
    "kernelspec": {
      "name": "python3",
      "display_name": "Python 3"
    },
    "language_info": {
      "name": "python"
    }
  },
  "cells": [
    {
      "cell_type": "markdown",
      "metadata": {
        "id": "SxKk9SbDNJ1H"
      },
      "source": [
        "#Bag of words"
      ]
    },
    {
      "cell_type": "markdown",
      "metadata": {
        "id": "ZbZx27HIOvAS"
      },
      "source": [
        "**Steps followed :**</br>\n",
        "1) First remove noisy words (like : is,was,a,an,the etc)</br>\n",
        "2) next, the filters words are mapped to its frequency( basically map and reduce algorithm)</br>\n",
        "3) Finally, we map each word to a seperate dimension and a vector for a sentence is decided by the words it has and their frequency\n",
        "</br>\n",
        "**Some disadvantages:**</br>\n",
        "Doesn't derive opposite natured words(like man and women)</br>\n",
        "doesn't appreciate quantity words like (large,small etc)</br>\n",
        "\n",
        "\n"
      ]
    },
    {
      "cell_type": "code",
      "metadata": {
        "id": "U_kOqZrlhl4k"
      },
      "source": [
        "paragraph='''I have three visions for India. In 3000 years of our history, people from all over \n",
        "               the world have come and invaded us, captured our lands, conquered our minds. \n",
        "               From Alexander onwards, the Greeks, the Turks, the Moguls, the Portuguese, the British,\n",
        "               the French, the Dutch, all of them came and looted us, took over what was ours. \n",
        "               Yet we have not done this to any other nation. We have not conquered anyone. \n",
        "               We have not grabbed their land, their culture, \n",
        "               their history and tried to enforce our way of life on them. \n",
        "               Why? Because we respect the freedom of others.That is why my \n",
        "               first vision is that of freedom. I believe that India got its first vision of \n",
        "               this in 1857, when we started the War of Independence. It is this freedom that\n",
        "               we must protect and nurture and build on. If we are not free, no one will respect us.\n",
        "               My second vision for India’s development. For fifty years we have been a developing nation.\n",
        "               It is time we see ourselves as a developed nation. We are among the top 5 nations of the world\n",
        "               in terms of GDP. We have a 10 percent growth rate in most areas. Our poverty levels are falling.\n",
        "               Our achievements are being globally recognised today. Yet we lack the self-confidence to\n",
        "               see ourselves as a developed nation, self-reliant and self-assured. Isn’t this incorrect?\n",
        "               I have a third vision. India must stand up to the world. Because I believe that unless India \n",
        "               stands up to the world, no one will respect us. Only strength respects strength. We must be \n",
        "               strong not only as a military power but also as an economic power. Both must go hand-in-hand. \n",
        "               My good fortune was to have worked with three great minds. Dr. Vikram Sarabhai of the Dept. of \n",
        "               space, Professor Satish Dhawan, who succeeded him and Dr. Brahm Prakash, father of nuclear material.\n",
        "               I was lucky to have worked with all three of them closely and consider this the great opportunity of my life. \n",
        "               I see four milestones in my career'''"
      ],
      "execution_count": 4,
      "outputs": []
    },
    {
      "cell_type": "code",
      "metadata": {
        "colab": {
          "base_uri": "https://localhost:8080/"
        },
        "id": "fU9eDaS3QcbU",
        "outputId": "903ab972-1342-48f5-a65f-bf5d34fe2ab3"
      },
      "source": [
        "#import modules\n",
        "import nltk\n",
        "nltk.download('punkt')\n",
        "nltk.download('stopwords')\n",
        "nltk.download('wordnet')\n",
        "import re\n",
        "from nltk.corpus import stopwords\n",
        "from nltk.stem.porter import PorterStemmer\n",
        "from nltk.stem import WordNetLemmatizer\n",
        "from sklearn.feature_extraction.text import CountVectorizer\n"
      ],
      "execution_count": 14,
      "outputs": [
        {
          "output_type": "stream",
          "name": "stdout",
          "text": [
            "[nltk_data] Downloading package wordnet to /root/nltk_data...\n",
            "[nltk_data]   Unzipping corpora/wordnet.zip.\n"
          ]
        }
      ]
    },
    {
      "cell_type": "code",
      "metadata": {
        "id": "INv75fGHQcWz"
      },
      "source": [
        "ps=PorterStemmer() #to do stemmatization\n",
        "word_net=WordNetLemmatizer() #object for lematization\n",
        "sentences= nltk.sent_tokenize(paragraph)\n",
        "corpus=[]\n",
        "for i in range(len(sentences)):\n",
        "  statement=re.sub('^[a-zA-Z]',' ',sentences[i])\n",
        "  statement=statement.lower()\n",
        "  statement=statement.split()\n",
        "  statement=[ word_net.lemmatize(word) for word in statement if not word in set(stopwords.words('english')) ]\n",
        "  statement= ' '.join(statement)\n",
        "  corpus.append(statement)\n",
        "  \n",
        "\n"
      ],
      "execution_count": 15,
      "outputs": []
    },
    {
      "cell_type": "code",
      "metadata": {
        "colab": {
          "base_uri": "https://localhost:8080/"
        },
        "id": "egYDfKxOQcUt",
        "outputId": "eaa67898-0768-45b4-e9ac-5388fca3f5c8"
      },
      "source": [
        "corpus"
      ],
      "execution_count": 16,
      "outputs": [
        {
          "output_type": "execute_result",
          "data": {
            "text/plain": [
              "['three vision india.',\n",
              " 'n 3000 year history, people world come invaded us, captured lands, conquered minds.',\n",
              " 'rom alexander onwards, greeks, turks, moguls, portuguese, british, french, dutch, came looted us, took ours.',\n",
              " 'et done nation.',\n",
              " 'e conquered anyone.',\n",
              " 'e grabbed land, culture, history tried enforce way life them.',\n",
              " 'hy?',\n",
              " 'ecause respect freedom others.that first vision freedom.',\n",
              " 'believe india got first vision 1857, started war independence.',\n",
              " 'freedom must protect nurture build on.',\n",
              " 'f free, one respect us.',\n",
              " 'second vision india’s development.',\n",
              " 'fifty year developing nation.',\n",
              " 'time see developed nation.',\n",
              " 'e among top 5 nation world term gdp.',\n",
              " 'e 10 percent growth rate areas.',\n",
              " 'ur poverty level falling.',\n",
              " 'ur achievement globally recognised today.',\n",
              " 'et lack self-confidence see developed nation, self-reliant self-assured.',\n",
              " 'sn’t incorrect?',\n",
              " 'third vision.',\n",
              " 'ndia must stand world.',\n",
              " 'ecause believe unless india stand world, one respect us.',\n",
              " 'nly strength respect strength.',\n",
              " 'e must strong military power also economic power.',\n",
              " 'oth must go hand-in-hand.',\n",
              " 'good fortune worked three great minds.',\n",
              " 'r. vikram sarabhai dept.',\n",
              " 'f space, professor satish dhawan, succeeded dr. brahm prakash, father nuclear material.',\n",
              " 'lucky worked three closely consider great opportunity life.',\n",
              " 'see four milestone career']"
            ]
          },
          "metadata": {},
          "execution_count": 16
        }
      ]
    },
    {
      "cell_type": "code",
      "metadata": {
        "id": "QHivDfl7QcRW"
      },
      "source": [
        "#convert these sentences to vectors by using the unique words as dimesnsions\n",
        "# Creating the Bag of Words model\n",
        "from sklearn.feature_extraction.text import CountVectorizer\n",
        "cv = CountVectorizer(max_features = 1500)\n",
        "X = cv.fit_transform(corpus).toarray()"
      ],
      "execution_count": 17,
      "outputs": []
    },
    {
      "cell_type": "code",
      "metadata": {
        "colab": {
          "base_uri": "https://localhost:8080/"
        },
        "id": "TaVGV6CtQcPQ",
        "outputId": "8e1ebd46-730c-47df-ee98-2653462bedd1"
      },
      "source": [
        "#check a sample\n",
        "X[3]"
      ],
      "execution_count": 20,
      "outputs": [
        {
          "output_type": "execute_result",
          "data": {
            "text/plain": [
              "array([0, 0, 0, 0, 0, 0, 0, 0, 0, 0, 0, 0, 0, 0, 0, 0, 0, 0, 0, 0, 0, 0,\n",
              "       0, 0, 0, 0, 0, 0, 1, 0, 0, 0, 0, 0, 1, 0, 0, 0, 0, 0, 0, 0, 0, 0,\n",
              "       0, 0, 0, 0, 0, 0, 0, 0, 0, 0, 0, 0, 0, 0, 0, 0, 0, 0, 0, 0, 0, 0,\n",
              "       0, 0, 0, 0, 0, 0, 0, 0, 1, 0, 0, 0, 0, 0, 0, 0, 0, 0, 0, 0, 0, 0,\n",
              "       0, 0, 0, 0, 0, 0, 0, 0, 0, 0, 0, 0, 0, 0, 0, 0, 0, 0, 0, 0, 0, 0,\n",
              "       0, 0, 0, 0, 0, 0, 0, 0, 0, 0, 0, 0, 0, 0, 0, 0, 0, 0, 0, 0, 0, 0])"
            ]
          },
          "metadata": {},
          "execution_count": 20
        }
      ]
    },
    {
      "cell_type": "markdown",
      "metadata": {
        "id": "1Tnkn6aqYjFv"
      },
      "source": [
        "#TF-IDF "
      ]
    },
    {
      "cell_type": "code",
      "metadata": {
        "id": "y1Jp82kbYmES"
      },
      "source": [
        "#the preprocessing step remains the same as for bag of words vectorization\n",
        "# Creating the TF-IDF model\n",
        "'''this model is designed in such a way that if words repeat in many sentences then it is given less priority cause if every sentence contains the same word \n",
        "it is kind of independent with the output(when we perform tasks like sentimental analysis) it also takes into account of the number of times a word repeats in\n",
        "sentences and kind of use these two factors to obtain vectors\n",
        "tf(t,d) = count of t in d / number of words in d\n",
        " df(t) = occurrence of t in documents\n",
        "df(t) = N(t)\n",
        "where\n",
        "df(t) = Document frequency of a term t\n",
        "N(t) = Number of documents containing the term t\n",
        "idf(t) = N/ df(t) = N/N(t)\n",
        "idf(t) = log(N/ df(t))\n",
        "tf-idf(t, d) = tf(t, d) * idf(t)'''\n",
        "from sklearn.feature_extraction.text import TfidfVectorizer\n",
        "cv = TfidfVectorizer()\n",
        "X_tf_idf = cv.fit_transform(corpus).toarray()"
      ],
      "execution_count": 21,
      "outputs": []
    },
    {
      "cell_type": "code",
      "metadata": {
        "colab": {
          "base_uri": "https://localhost:8080/"
        },
        "id": "I2SUyCHuaiTP",
        "outputId": "ecb7c896-5df3-4144-f110-502b3642d2fe"
      },
      "source": [
        "X_tf_idf[0]"
      ],
      "execution_count": 22,
      "outputs": [
        {
          "output_type": "execute_result",
          "data": {
            "text/plain": [
              "array([0.        , 0.        , 0.        , 0.        , 0.        ,\n",
              "       0.        , 0.        , 0.        , 0.        , 0.        ,\n",
              "       0.        , 0.        , 0.        , 0.        , 0.        ,\n",
              "       0.        , 0.        , 0.        , 0.        , 0.        ,\n",
              "       0.        , 0.        , 0.        , 0.        , 0.        ,\n",
              "       0.        , 0.        , 0.        , 0.        , 0.        ,\n",
              "       0.        , 0.        , 0.        , 0.        , 0.        ,\n",
              "       0.        , 0.        , 0.        , 0.        , 0.        ,\n",
              "       0.        , 0.        , 0.        , 0.        , 0.        ,\n",
              "       0.        , 0.        , 0.        , 0.        , 0.        ,\n",
              "       0.        , 0.        , 0.        , 0.        , 0.        ,\n",
              "       0.        , 0.        , 0.        , 0.        , 0.5736562 ,\n",
              "       0.        , 0.        , 0.        , 0.        , 0.        ,\n",
              "       0.        , 0.        , 0.        , 0.        , 0.        ,\n",
              "       0.        , 0.        , 0.        , 0.        , 0.        ,\n",
              "       0.        , 0.        , 0.        , 0.        , 0.        ,\n",
              "       0.        , 0.        , 0.        , 0.        , 0.        ,\n",
              "       0.        , 0.        , 0.        , 0.        , 0.        ,\n",
              "       0.        , 0.        , 0.        , 0.        , 0.        ,\n",
              "       0.        , 0.        , 0.        , 0.        , 0.        ,\n",
              "       0.        , 0.        , 0.        , 0.        , 0.        ,\n",
              "       0.        , 0.        , 0.        , 0.        , 0.        ,\n",
              "       0.        , 0.        , 0.        , 0.        , 0.        ,\n",
              "       0.61847214, 0.        , 0.        , 0.        , 0.        ,\n",
              "       0.        , 0.        , 0.        , 0.        , 0.        ,\n",
              "       0.        , 0.53703891, 0.        , 0.        , 0.        ,\n",
              "       0.        , 0.        ])"
            ]
          },
          "metadata": {},
          "execution_count": 22
        }
      ]
    }
  ]
}