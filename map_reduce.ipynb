{
  "nbformat": 4,
  "nbformat_minor": 0,
  "metadata": {
    "colab": {
      "name": "map_reduce.ipynb",
      "provenance": []
    },
    "kernelspec": {
      "name": "python3",
      "display_name": "Python 3"
    },
    "language_info": {
      "name": "python"
    }
  },
  "cells": [
    {
      "cell_type": "code",
      "metadata": {
        "colab": {
          "base_uri": "https://localhost:8080/"
        },
        "id": "qbnSatQR9P34",
        "outputId": "c8810148-3bd0-4af3-efa0-09f379eee1d8"
      },
      "source": [
        "import re\n",
        "import nltk\n",
        "nltk.download('punkt')"
      ],
      "execution_count": 9,
      "outputs": [
        {
          "output_type": "stream",
          "name": "stdout",
          "text": [
            "[nltk_data] Downloading package punkt to /root/nltk_data...\n",
            "[nltk_data]   Unzipping tokenizers/punkt.zip.\n"
          ]
        },
        {
          "output_type": "execute_result",
          "data": {
            "text/plain": [
              "True"
            ]
          },
          "metadata": {},
          "execution_count": 9
        }
      ]
    },
    {
      "cell_type": "code",
      "metadata": {
        "id": "lx-Z4guz9Yxa"
      },
      "source": [
        "text='''I have three visions for India. In 3000 years of our history, people from all over \n",
        "               the world have come and invaded us, captured our lands, conquered our minds. \n",
        "               From Alexander onwards, the Greeks, the Turks, the Moguls, the Portuguese, the British,\n",
        "               the French, the Dutch, all of them came and looted us, took over what was ours. \n",
        "               Yet we have not done this to any other nation. We have not conquered anyone. \n",
        "               We have not grabbed their land, their culture, \n",
        "               their history and tried to enforce our way of life on them. \n",
        "               Why? Because we respect the freedom of others.That is why my \n",
        "               first vision is that of freedom. I believe that India got its first vision of \n",
        "               this in 1857, when we started the War of Independence. It is this freedom that\n",
        "               we must protect and nurture and build on. If we are not free, no one will respect us.\n",
        "               My second vision for India’s development. For fifty years we have been a developing nation.\n",
        "               It is time we see ourselves as a developed nation. We are among the top 5 nations of the world\n",
        "               in terms of GDP. We have a 10 percent growth rate in most areas. Our poverty levels are falling.\n",
        "               Our achievements are being globally recognised today. Yet we lack the self-confidence to\n",
        "               see ourselves as a developed nation, self-reliant and self-assured. Isn’t this incorrect?\n",
        "               I have a third vision. India must stand up to the world. Because I believe that unless India \n",
        "               stands up to the world, no one will respect us. Only strength respects strength. We must be \n",
        "               strong not only as a military power but also as an economic power. Both must go hand-in-hand. \n",
        "               My good fortune was to have worked with three great minds. Dr. Vikram Sarabhai of the Dept. of \n",
        "               space, Professor Satish Dhawan, who succeeded him and Dr. Brahm Prakash, father of nuclear material.\n",
        "               I was lucky to have worked with all three of them closely and consider this the great opportunity of my life. \n",
        "               I see four milestones in my career'''\n",
        "#preprocessing\n",
        "#lower case\n",
        "text=text.lower()\n",
        "words=nltk.word_tokenize(text)\n"
      ],
      "execution_count": 20,
      "outputs": []
    },
    {
      "cell_type": "code",
      "metadata": {
        "id": "gl2u1BTRBq1T"
      },
      "source": [
        "\n",
        "def map_and_reduce(text):\n",
        "  '''This funtion takes text as input and identifies all characters as small and perform map and reduce to return a dictionary as output that contains\n",
        "  all unique words in text with its frequency '''\n",
        "  text=text.lower()\n",
        "  words=nltk.word_tokenize(text)\n",
        "  mapping_list=[]\n",
        "  for i in range(len(words)):\n",
        "    mapping_list.append((words[i],1))\n",
        "  map_keys= set(words)\n",
        "  #using  dictionary comprehensions\n",
        "  reduce_dict={key: 0 for key in map_keys}\n",
        "  for word in words:\n",
        "    reduce_dict[word] +=1\n",
        "  return reduce_dict\n"
      ],
      "execution_count": 43,
      "outputs": []
    },
    {
      "cell_type": "code",
      "metadata": {
        "colab": {
          "base_uri": "https://localhost:8080/"
        },
        "id": "j8TG5zM9Fon6",
        "outputId": "63187a4f-4bdc-4de4-f529-58f616faf689"
      },
      "source": [
        "help(map_and_reduce)"
      ],
      "execution_count": 44,
      "outputs": [
        {
          "output_type": "stream",
          "name": "stdout",
          "text": [
            "Help on function map_and_reduce in module __main__:\n",
            "\n",
            "map_and_reduce(text)\n",
            "    This funtion takes text as input and identifies all characters as small and perform map and reduce to return a dictionary as output that contains\n",
            "    all unique words in text with its frequency\n",
            "\n"
          ]
        }
      ]
    },
    {
      "cell_type": "code",
      "metadata": {
        "colab": {
          "base_uri": "https://localhost:8080/"
        },
        "id": "BmNOE_d5Ey_d",
        "outputId": "a47ed8b1-4c49-4a43-862a-090caa60e0fc"
      },
      "source": [
        "k=map_and_reduce(text)\n",
        "for key,value in k.items():\n",
        "  print(key,value)"
      ],
      "execution_count": 40,
      "outputs": [
        {
          "output_type": "stream",
          "name": "stdout",
          "text": [
            "independence 1\n",
            "enforce 1\n",
            "worked 2\n",
            "nurture 1\n",
            "strong 1\n",
            "also 1\n",
            "dr. 2\n",
            "isn 1\n",
            "father 1\n",
            "gdp 1\n",
            "both 1\n",
            "moguls 1\n",
            "others.that 1\n",
            "vikram 1\n",
            "development 1\n",
            "started 1\n",
            "’ 2\n",
            "ourselves 2\n",
            "a 6\n",
            "from 2\n",
            "come 1\n",
            "because 2\n",
            "british 1\n",
            "hand-in-hand 1\n",
            "succeeded 1\n",
            "poverty 1\n",
            "what 1\n",
            "yet 2\n",
            "any 1\n",
            "dept 1\n",
            "portuguese 1\n",
            "was 3\n",
            "respect 3\n",
            "falling 1\n",
            "turks 1\n",
            "us 4\n",
            "lucky 1\n",
            "land 1\n",
            "done 1\n",
            "fortune 1\n",
            "being 1\n",
            "to 7\n",
            "lands 1\n",
            "unless 1\n",
            "other 1\n",
            "on 2\n",
            "satish 1\n",
            "self-confidence 1\n",
            "career 1\n",
            "visions 1\n",
            "power 2\n",
            "second 1\n",
            "lack 1\n",
            "dhawan 1\n",
            "been 1\n",
            "incorrect 1\n",
            "only 2\n",
            "ours 1\n",
            "for 3\n",
            "this 5\n",
            "looted 1\n",
            "its 1\n",
            "them 3\n",
            "respects 1\n",
            "that 4\n",
            "culture 1\n",
            "achievements 1\n",
            "developing 1\n",
            "opportunity 1\n",
            "i 6\n",
            "him 1\n",
            "economic 1\n",
            "will 2\n",
            "percent 1\n",
            "invaded 1\n",
            "an 1\n",
            "? 2\n",
            "see 3\n",
            "terms 1\n",
            ". 28\n",
            "space 1\n",
            "military 1\n",
            "nations 1\n",
            "vision 4\n",
            "good 1\n",
            "brahm 1\n",
            "nuclear 1\n",
            "of 14\n",
            "professor 1\n",
            "tried 1\n",
            "people 1\n",
            "stand 1\n",
            "three 3\n",
            "be 1\n",
            "protect 1\n",
            "in 5\n",
            "up 2\n",
            "it 2\n",
            "no 2\n",
            "strength 2\n",
            "material 1\n",
            "rate 1\n",
            "recognised 1\n",
            "greeks 1\n",
            "stands 1\n",
            "who 1\n",
            "t 1\n",
            "one 2\n",
            "came 1\n",
            "why 2\n",
            "today 1\n",
            "india 5\n",
            "globally 1\n",
            "my 5\n",
            "prakash 1\n",
            "free 1\n",
            "took 1\n",
            "with 2\n",
            "top 1\n",
            "self-assured 1\n",
            "history 2\n",
            "must 4\n",
            "dutch 1\n",
            "closely 1\n",
            "great 2\n",
            "first 2\n",
            "minds 2\n",
            "french 1\n",
            "areas 1\n",
            "years 2\n",
            "developed 2\n",
            "and 8\n",
            "fifty 1\n",
            "alexander 1\n",
            "we 13\n",
            "world 4\n",
            ", 21\n",
            "milestones 1\n",
            "nation 4\n",
            "3000 1\n",
            "life 2\n",
            "5 1\n",
            "self-reliant 1\n",
            "go 1\n",
            "all 3\n",
            "onwards 1\n",
            "way 1\n",
            "most 1\n",
            "if 1\n",
            "over 2\n",
            "not 5\n",
            "but 1\n",
            "the 17\n",
            "our 6\n",
            "consider 1\n",
            "grabbed 1\n",
            "is 4\n",
            "four 1\n",
            "1857 1\n",
            "conquered 2\n",
            "war 1\n",
            "are 4\n",
            "as 4\n",
            "anyone 1\n",
            "third 1\n",
            "sarabhai 1\n",
            "levels 1\n",
            "captured 1\n",
            "freedom 3\n",
            "time 1\n",
            "their 3\n",
            "among 1\n",
            "have 10\n",
            "when 1\n",
            "10 1\n",
            "growth 1\n",
            "build 1\n",
            "believe 2\n",
            "got 1\n",
            "s 1\n"
          ]
        }
      ]
    },
    {
      "cell_type": "code",
      "metadata": {
        "id": "9b2omMidBAkz"
      },
      "source": [
        ""
      ],
      "execution_count": null,
      "outputs": []
    }
  ]
}